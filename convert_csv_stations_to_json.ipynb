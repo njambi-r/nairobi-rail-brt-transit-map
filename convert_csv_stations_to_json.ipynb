{
  "cells": [
    {
      "cell_type": "markdown",
      "metadata": {
        "colab_type": "text",
        "id": "view-in-github"
      },
      "source": [
        "<a href=\"https://colab.research.google.com/github/njambi-r/nairobi-rail-brt-transit-map/blob/main/convert_csv_stations_to_json.ipynb\" target=\"_parent\"><img src=\"https://colab.research.google.com/assets/colab-badge.svg\" alt=\"Open In Colab\"/></a>"
      ]
    },
    {
      "cell_type": "markdown",
      "metadata": {
        "id": "B7YeYVh22waa"
      },
      "source": [
        "Code converts csv data to json"
      ]
    },
    {
      "cell_type": "code",
      "execution_count": null,
      "metadata": {
        "id": "ZMaQmVRx2Jx2"
      },
      "outputs": [],
      "source": [
        "import csv\n",
        "import json\n",
        "import math\n",
        "from collections import defaultdict"
      ]
    },
    {
      "cell_type": "code",
      "execution_count": null,
      "metadata": {
        "colab": {
          "base_uri": "https://localhost:8080/"
        },
        "id": "XHQCUFkP3eqS",
        "outputId": "131cb8ee-0456-4ef3-d999-201e95aa7201"
      },
      "outputs": [
        {
          "name": "stdout",
          "output_type": "stream",
          "text": [
            "Mounted at /content/drive\n"
          ]
        }
      ],
      "source": [
        "from google.colab import drive\n",
        "drive.mount('/content/drive', force_remount=True)"
      ]
    },
    {
      "cell_type": "code",
      "execution_count": null,
      "metadata": {
        "id": "sCtr4KNF0r4L"
      },
      "outputs": [],
      "source": [
        "ALLOWED_DIRECTIONS = [\n",
        "    (1, 0),    # →\n",
        "    (0, 1),    # ↓\n",
        "    (-1, 0),   # ←\n",
        "    (0, -1),   # ↑\n",
        "    (1, 1),    # ↘\n",
        "    (-1, -1),  # ↖\n",
        "    (1, -1),   # ↗\n",
        "    (-1, 1),   # ↙\n",
        "]"
      ]
    },
    {
      "cell_type": "code",
      "execution_count": null,
      "metadata": {
        "id": "iFXHcGjt0vq6"
      },
      "outputs": [],
      "source": [
        "\"\"\"\n",
        "def vector_direction(dx, dy):\n",
        "    norm = (dx, dy)\n",
        "    return norm in ALLOWED_DIRECTIONS\n",
        "\"\"\"\n",
        "\n",
        "\n",
        "#updated version to allow movement in any units on the right direction\n",
        "\n",
        "def normalize_direction(dx, dy):\n",
        "    if dx == 0 and dy == 0:\n",
        "        return None\n",
        "    gcd = math.gcd(dx, dy)\n",
        "    return (dx // gcd, dy // gcd)\n",
        "\n",
        "def vector_direction(dx, dy):\n",
        "    dir = normalize_direction(dx, dy)\n",
        "    return dir in ALLOWED_DIRECTIONS\n"
      ]
    },
    {
      "cell_type": "code",
      "execution_count": null,
      "metadata": {
        "id": "DePR5uY50y6K"
      },
      "outputs": [],
      "source": [
        "def read_csv(path):\n",
        "    with open(path, newline='', encoding='utf-8') as f:\n",
        "        reader = csv.DictReader(f)\n",
        "        return list(reader)"
      ]
    },
    {
      "cell_type": "code",
      "execution_count": null,
      "metadata": {
        "id": "628iHEeX1F3q"
      },
      "outputs": [],
      "source": [
        "def scale_coords(data, grid_size=300):\n",
        "    min_x = min(float(row['x_coord']) for row in data)\n",
        "    min_y = min(float(row['y_coord']) for row in data)\n",
        "\n",
        "    grid_positions = {}\n",
        "    for row in data:\n",
        "        name = row['Name']\n",
        "        # Snap to nearest grid_size\n",
        "        x = round((float(row['x_coord']) - min_x) / grid_size)\n",
        "        y = round((float(row['y_coord']) - min_y) / grid_size)\n",
        "        grid_positions[(name, row['NCR_Line'])] = (x, y)\n",
        "\n",
        "    return grid_positions"
      ]
    },
    {
      "cell_type": "code",
      "execution_count": null,
      "metadata": {
        "id": "lA85Xa9v1QG6"
      },
      "outputs": [],
      "source": [
        "from collections import defaultdict\n",
        "\n",
        "ALLOWED_DIRECTIONS = {\n",
        "    (-1, 0), (1, 0),   # horizontal\n",
        "    (0, -1), (0, 1),   # vertical\n",
        "    (-1, -1), (1, 1),  # diagonal /\n",
        "    (-1, 1), (1, -1)   # diagonal \\\n",
        "}\n",
        "\n",
        "def normalize_direction(dx, dy):\n",
        "    if dx == 0 and dy == 0:\n",
        "        return (0, 0)\n",
        "    return (\n",
        "        dx // abs(dx) if dx != 0 else 0,\n",
        "        dy // abs(dy) if dy != 0 else 0\n",
        "    )\n",
        "\n",
        "def build_json(data, grid_positions):\n",
        "    stations_meta = {}\n",
        "    lines = defaultdict(list)\n",
        "\n",
        "    # Build initial line data and station metadata\n",
        "    for row in data:\n",
        "        key = (row['Name'], row['NCR_Line'])\n",
        "        x, y = grid_positions[key]\n",
        "        x, y = int(x), int(y)\n",
        "\n",
        "        lines[row['NCR_Line']].append({\n",
        "            'name': row['Name'],\n",
        "            'coords': [x, y],\n",
        "            'labelPos': row.get('labelPos', 'S')\n",
        "        })\n",
        "\n",
        "        stations_meta.setdefault(row['Name'], {\n",
        "            'label': row['Name'],\n",
        "            'position': {\n",
        "                'lat': float(row['y_coord']),\n",
        "                'lon': float(row['x_coord'])\n",
        "            }\n",
        "        })\n",
        "\n",
        "    # Smooth lines without inserting corner points unnecessarily\n",
        "    for line_name, nodes in lines.items():\n",
        "        smoothed = [nodes[0]]\n",
        "        for i in range(1, len(nodes) - 1):\n",
        "            prev = smoothed[-1]\n",
        "            curr = nodes[i]\n",
        "            next_node = nodes[i + 1]\n",
        "\n",
        "            x0, y0 = prev['coords']\n",
        "            x1, y1 = curr['coords']\n",
        "            x2, y2 = next_node['coords']\n",
        "\n",
        "            dir1 = normalize_direction(x1 - x0, y1 - y0)\n",
        "            dir2 = normalize_direction(x2 - x1, y2 - y1)\n",
        "\n",
        "            if dir1 not in ALLOWED_DIRECTIONS or dir2 not in ALLOWED_DIRECTIONS:\n",
        "                print(f\"⚠️ Skipping invalid direction: {prev['coords']} → {curr['coords']} → {next_node['coords']}\")\n",
        "                smoothed.append(curr)\n",
        "                continue\n",
        "\n",
        "            # No corner inserted, just add the current node\n",
        "            smoothed.append(curr)\n",
        "\n",
        "        smoothed.append(nodes[-1])\n",
        "        lines[line_name] = smoothed\n",
        "\n",
        "    # Assign colors to lines\n",
        "    colors = [\"#FF5733\", \"#33C1FF\", \"#9D33FF\", \"#33FF57\", \"#FFC300\"]\n",
        "    lines_json = []\n",
        "\n",
        "    for idx, (line_name, nodes) in enumerate(lines.items()):\n",
        "        lines_json.append({\n",
        "            'name': line_name,\n",
        "            'label': line_name,\n",
        "            'color': colors[idx % len(colors)],\n",
        "            'shiftCoords': [0, 0],\n",
        "            'nodes': nodes\n",
        "        })\n",
        "\n",
        "    return {\n",
        "        'stations': stations_meta,\n",
        "        'lines': lines_json\n",
        "    }\n",
        "\n"
      ]
    },
    {
      "cell_type": "code",
      "execution_count": null,
      "metadata": {
        "id": "hmDWBaOd1Tm6"
      },
      "outputs": [],
      "source": [
        "def main():\n",
        "    #csv_path = \"/content/drive/MyDrive/KPMG/TubeMap/NCR_Stops_formatted_UTM.csv\"  # Update this path if needed\n",
        "    csv_path = \"/content/drive/MyDrive/KPMG/TubeMap/NCR+BRT_v1.csv\"\n",
        "    data = read_csv(csv_path)\n",
        "    grid_positions = scale_coords(data)\n",
        "    final_json = build_json(data, grid_positions)\n",
        "\n",
        "    with open('nairobi_tube_map.json', 'w', encoding='utf-8') as f:\n",
        "        json.dump(final_json, f, indent=2)\n",
        "\n",
        "if __name__ == '__main__':\n",
        "    main()"
      ]
    }
  ],
  "metadata": {
    "colab": {
      "authorship_tag": "ABX9TyOneX2/UeXOaNu8X1fgbyDT",
      "include_colab_link": true,
      "mount_file_id": "1cjNjF-gS416tuQbCqtq5qYQtmb7hkUuA",
      "provenance": []
    },
    "kernelspec": {
      "display_name": "Python 3",
      "name": "python3"
    },
    "language_info": {
      "name": "python"
    }
  },
  "nbformat": 4,
  "nbformat_minor": 0
}
